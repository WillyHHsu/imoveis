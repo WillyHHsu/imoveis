{
 "cells": [
  {
   "cell_type": "code",
   "execution_count": 46,
   "metadata": {},
   "outputs": [],
   "source": [
    "import pandas as pd\n",
    "dataset = pd.read_csv('data/processed/test.csv.gzip',compression='gzip', sep=';')"
   ]
  },
  {
   "cell_type": "markdown",
   "metadata": {},
   "source": [
    "### Cleaning"
   ]
  },
  {
   "cell_type": "markdown",
   "metadata": {},
   "source": [
    "##### garantindo os dtypes"
   ]
  },
  {
   "cell_type": "code",
   "execution_count": 47,
   "metadata": {},
   "outputs": [],
   "source": [
    "dataset = dataset[~dataset['usableAreas'].astype(str).str.contains('[A-Za-z]', na=False)]  \n",
    "dataset['usableAreas'] = dataset['usableAreas'].astype('float32')\n",
    "dataset['parkingSpaces']=dataset['parkingSpaces'].astype('float32')\n",
    "dataset['suites']=dataset['suites'].astype('float')\n",
    "dataset['bathrooms']=dataset['bathrooms'].astype('float')\n",
    "dataset['totalAreas']=dataset['totalAreas'].astype('float')\n",
    "dataset['bedrooms']=dataset['bedrooms'].astype('float')\n",
    "dataset['pricingInfos_yearlyIptu']=dataset['pricingInfos_yearlyIptu'].astype('float')\n",
    "dataset['pricingInfos_monthlyCondoFee']= dataset['pricingInfos_monthlyCondoFee'].astype('float')"
   ]
  },
  {
   "cell_type": "markdown",
   "metadata": {},
   "source": [
    "##### Funções para auxiliar na limpeza"
   ]
  },
  {
   "cell_type": "code",
   "execution_count": 48,
   "metadata": {},
   "outputs": [],
   "source": [
    "def usableArea(x):\n",
    "    \"\"\"\n",
    "    garantindo que não haja totalAreas muito distantes da usableAreas\n",
    "    \"\"\"\n",
    "    if x['totalAreas']*3 > x['usableAreas']:\n",
    "        return x['usableAreas']\n",
    "    else:\n",
    "        return x['totalAreas']    \n",
    "    \n",
    "def usableArea2(x):\n",
    "    \"\"\"\n",
    "    olhando o preço médio de um imóvel com mais de 1500m2, nos sites de imóvel,\n",
    "    percebe-se que há poucos que custam menos de 2m\n",
    "    \"\"\"\n",
    "    if x['usableAreas'] > 1500 and x['pricingInfos_price'] < 2000000:\n",
    "        return x['usableAreas']/10\n",
    "    else:\n",
    "        return x['totalAreas']\n",
    "\n",
    "\n",
    "def randomParkingSpaces():\n",
    "    \"\"\"\n",
    "    como que a maioria dos aps tem entre 1 e 3 vagas, vamos achar a distribuição e \n",
    "    usar como probabilidade para trazer para um valor mais realista\n",
    "\n",
    "    assim um >>dataset['parkingSpaces'].value_counts()<< pode nos dar uma boa aproximação\n",
    "    \"\"\"\n",
    "    p = [0.051824852372388,0.473013194963949,0.286341859391663\n",
    "        ,0.104668375061677,0.060483550066054,0.017317395387334\n",
    "        ,0.006350772756936]\n",
    "    values = [0,1,2,3,4,5,6]\n",
    "    return np.random.choice(values,1,p=p,)[0]\n",
    "\n",
    "def valueCondoFee1(x):\n",
    "    if x['pricingInfos_monthlyCondoFee']>5000 and x['pricingInfos_price']>2000000:\n",
    "        return x['pricingInfos_monthlyCondoFee']/10\n",
    "    else:\n",
    "        return x['pricingInfos_monthlyCondoFee']\n",
    "    \n",
    "\n",
    "def valueCondoFee2(x):\n",
    "    if x['pricingInfos_monthlyCondoFee']>=10000 and x['usableAreas']<200:\n",
    "        return x['pricingInfos_monthlyCondoFee']/100\n",
    "    else:\n",
    "        return x['pricingInfos_monthlyCondoFee']\n",
    "    \n",
    "def zeroUsableAreas(x):\n",
    "    if x['usableAreas']==0:\n",
    "        if pd.notna(x['usableAreasFromTitle']) and x['usableAreasFromTitle']>0 :\n",
    "            return x['usableAreasFromTitle'] \n",
    "        elif pd.notna(x['usableAreasFromDescription']) and x['usableAreasFromDescription']>0:\n",
    "            return x['usableAreasFromDescription'] \n",
    "        else:\n",
    "            return x['usableAreas']\n",
    "    else:\n",
    "        return x['usableAreas']\n",
    "    \n",
    "def iptu(x):\n",
    "\n",
    "    if x['pricingInfos_yearlyIptu']<=100 or x['pricingInfos_yearlyIptu']>=50000:\n",
    "        return x['pricingInfos_price']*0.01\n",
    "    else:\n",
    "        return x['pricingInfos_yearlyIptu']"
   ]
  },
  {
   "cell_type": "code",
   "execution_count": 49,
   "metadata": {},
   "outputs": [],
   "source": [
    "dataset['totalAreas'].fillna(0, inplace = True)\n",
    "dataset['totalAreas'] = dataset[['totalAreas','usableAreas']].apply(usableArea, axis=1)\n",
    "dataset['usableAreas']=dataset[['usableAreas','totalAreas','pricingInfos_price']].apply(usableArea2, axis=1)\n",
    "dataset['parkingSpaces'] = dataset['parkingSpaces'].apply(lambda x: randomParkingSpaces() if x>29 else x)\n",
    "dataset['pricingInfos_monthlyCondoFee'] = dataset['pricingInfos_monthlyCondoFee'].apply(lambda x: x/1000 if x > 1000000 else x)\n",
    "dataset['pricingInfos_monthlyCondoFee'] = dataset[['pricingInfos_monthlyCondoFee','pricingInfos_price']].apply(valueCondoFee1,axis =1)\n",
    "dataset['pricingInfos_monthlyCondoFee'] = dataset[['pricingInfos_monthlyCondoFee','usableAreas']].apply(valueCondoFee2,axis =1)\n",
    "dataset['pricingInfos_monthlyCondoFee'] = dataset['pricingInfos_monthlyCondoFee'].apply(lambda x: x/100 if x>100000.00 else x)\n",
    "dataset['pricingInfos_monthlyCondoFee'] = dataset['pricingInfos_monthlyCondoFee'].apply(lambda x: x/10 if x>10000.00 else x)\n",
    "\n",
    "dataset[['usableAreasFromTitle','a']]=dataset['title'].str.extract('(\\d{1,4}\\s?(m²|metros quadrados|metros quadrado),?)', expand=False)\n",
    "dataset['usableAreasFromTitle']=dataset['usableAreasFromTitle'].str.extract(r'(\\d+)', expand=False)\n",
    "dataset[['usableAreasFromDescription','a']] = dataset['description'].str.extract('(\\d{1,4}\\s?(m²|metros quadrados|metros quadrado),?)', expand=False)\n",
    "dataset['usableAreasFromDescription'] =dataset['usableAreasFromDescription'].str.extract(r'(\\d+)', expand=False)\n",
    "dataset['usableAreasFromTitle'].fillna(0, inplace=True)\n",
    "dataset['usableAreasFromDescription'].fillna(0, inplace=True)\n",
    "dataset['usableAreasFromTitle']=dataset['usableAreasFromTitle'].astype('float').apply(lambda x: 0 if x >=1000 else x)\n",
    "dataset['usableAreasFromDescription']=dataset['usableAreasFromDescription'].astype('float').apply(lambda x: 0 if x >=1000 else x)\n",
    "dataset['usableAreas']=dataset['usableAreas'].fillna(dataset['usableAreasFromDescription'])\n",
    "dataset['usableAreas']=dataset['usableAreas'].fillna(dataset['usableAreasFromTitle'])\n",
    "dataset['usableAreas']=dataset['usableAreas'].fillna(dataset['totalAreas'])\n",
    "dataset['usableAreas']=dataset[['usableAreas','usableAreasFromTitle','usableAreasFromDescription']].apply(zeroUsableAreas, axis=1 )\n",
    "dataset['usableAreas']=dataset.usableAreas.astype('float')\n",
    "\n",
    "dataset[['vagaFromTitle', 'b']]= dataset['title'].str.extract('(\\s?\\d{1,2}\\s?(vaga|vagas|estacionamento))', expand=False)\n",
    "\n",
    "interesting_string='trem|estação|metrô|museu|avenida|av|parques|parque|marginal|shopping|perto do metro'\n",
    "dataset['descriptionAndTitle']=dataset['description']+' '+dataset['title']\n",
    "dataset['interestingFlag']=dataset['descriptionAndTitle'].str.contains(interesting_string, regex=True)\n",
    "\n",
    "dataset['address_zone']=dataset['address_locationId'].str.split('>').str[4]\n",
    "\n",
    "dataset['pricingInfos_yearlyIptu']=dataset['pricingInfos_yearlyIptu'].apply(lambda x: x/10 if x>100000 else x )\n",
    "#fillna com mediana\n",
    "dataset['pricingInfos_yearlyIptu']=dataset.pricingInfos_yearlyIptu.fillna(2380)\n",
    "dataset['pricingInfos_yearlyIptu']=dataset[['pricingInfos_yearlyIptu','pricingInfos_price']].apply(iptu ,axis=1)\n",
    "dataset['pricingInfos_yearlyIptu']=dataset.pricingInfos_yearlyIptu.fillna(2380)\n",
    "\n",
    "dataset['usableAreas_flg']=dataset['usableAreas'].apply(lambda x: 1 if x>0 else 0)\n",
    "dataset['interestingFlag']=dataset['interestingFlag'].apply(lambda x: 1 if x else 0)\n",
    "dataset.interestingFlag.fillna(0, inplace=True)\n",
    "\n",
    "#vamos dar fillna com a mediana, assim garantimos menor distorção \n",
    "dataset['parkingSpaces'].fillna(1,inplace = True )\n",
    "dataset['suites'].fillna(1,inplace = True )\n",
    "dataset['bedrooms'].fillna(3,inplace = True )\n",
    "dataset['bathrooms'].fillna(2,inplace = True )\n",
    "dataset['pricingInfos_monthlyCondoFee'].fillna(482, inplace = True )\n",
    "\n",
    "dataset['usableAreas_flg']=dataset['usableAreas'].apply(lambda x: 1 if x>0 else 0)\n",
    "dataset['interestingFlag']=dataset['interestingFlag'].apply(lambda x: 1 if x else 0)\n",
    "dataset.interestingFlag.fillna(0, inplace=True)\n",
    "\n"
   ]
  },
  {
   "cell_type": "code",
   "execution_count": 50,
   "metadata": {},
   "outputs": [],
   "source": [
    "from sklearn import preprocessing\n",
    "dataset=pd.get_dummies(dataset, columns=[\"address_zone\"])\n",
    "    \n",
    "x_col=['usableAreas', 'parkingSpaces', 'suites', 'bedrooms'\n",
    ",'bathrooms', 'pricingInfos_yearlyIptu', 'pricingInfos_monthlyCondoFee','interestingFlag'\n",
    ", 'address_zone_Centro','address_zone_Zona Leste','address_zone_Zona Oeste', 'address_zone_Zona Sul']"
   ]
  },
  {
   "cell_type": "code",
   "execution_count": 51,
   "metadata": {},
   "outputs": [],
   "source": [
    "import pickle\n",
    "with open('model/RandomForestRegressor.sav', 'rb') as model:\n",
    "    rfg = pickle.load(model)"
   ]
  },
  {
   "cell_type": "code",
   "execution_count": 52,
   "metadata": {},
   "outputs": [],
   "source": [
    "results_df=pd.DataFrame({'id':dataset.id.values,'price':rfg.predict(dataset[x_col])})\n",
    "results_df.to_csv('predictions.csv', index = False)"
   ]
  },
  {
   "cell_type": "code",
   "execution_count": null,
   "metadata": {},
   "outputs": [],
   "source": []
  },
  {
   "cell_type": "code",
   "execution_count": null,
   "metadata": {},
   "outputs": [],
   "source": []
  }
 ],
 "metadata": {
  "kernelspec": {
   "display_name": "Python 3",
   "language": "python",
   "name": "python3"
  },
  "language_info": {
   "codemirror_mode": {
    "name": "ipython",
    "version": 3
   },
   "file_extension": ".py",
   "mimetype": "text/x-python",
   "name": "python",
   "nbconvert_exporter": "python",
   "pygments_lexer": "ipython3",
   "version": "3.6.9"
  }
 },
 "nbformat": 4,
 "nbformat_minor": 4
}

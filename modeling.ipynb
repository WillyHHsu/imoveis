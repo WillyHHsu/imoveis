{
 "cells": [
  {
   "cell_type": "code",
   "execution_count": 196,
   "metadata": {},
   "outputs": [],
   "source": [
    "import pandas as pd\n",
    "import numpy as np\n",
    "\n",
    "from statsmodels.stats.outliers_influence import variance_inflation_factor \n",
    "from statsmodels.tools.tools import add_constant\n",
    "\n",
    "pd.set_option('display.max_columns', None)\n",
    "pd.set_option('display.float_format', lambda x: '%.3f' % x)\n",
    "pd.options.display.float_format = '{:,.2f}'.format\n",
    "\n",
    "from sklearn.model_selection import train_test_split\n",
    "\n",
    "seed=42\n",
    "np.random.seed = 42"
   ]
  },
  {
   "cell_type": "code",
   "execution_count": 197,
   "metadata": {},
   "outputs": [],
   "source": [
    "def calculate_vif_(df, thresh=5):\n",
    "    '''\n",
    "    Calculates VIF each feature in a pandas dataframe\n",
    "    A constant must be added to variance_inflation_factor or the results will be incorrect\n",
    "\n",
    "    :param df: the pandas dataframe containing only the predictor features, not the response variable\n",
    "    :param thresh: the max VIF value before the feature is removed from the dataframe\n",
    "    :return: dataframe with features removed\n",
    "    '''\n",
    "    const=add_constant(df)\n",
    "    cols=const.columns\n",
    "    variables=np.arange(const.shape[1])\n",
    "    vif_df=pd.Series([variance_inflation_factor(const.values, i) \n",
    "               for i in range(const.shape[1])], \n",
    "              index=const.columns).to_frame()\n",
    "\n",
    "    vif_df=vif_df.sort_values(by=0, ascending=False).rename(columns={0: 'VIF'})\n",
    "    vif_df=vif_df.drop('const')\n",
    "    vif_df=vif_df[vif_df['VIF'] > thresh]\n",
    "\n",
    "    print('Features above VIF threshold:\\n')\n",
    "    print(vif_df[vif_df['VIF'] > thresh])\n",
    "\n",
    "    col_to_drop = list(vif_df.index)\n",
    "\n",
    "    for i in col_to_drop:\n",
    "        print('Dropping: {}'.format(i))\n",
    "        df = df.drop(columns=i)\n",
    "\n",
    "    return 'done'"
   ]
  },
  {
   "cell_type": "code",
   "execution_count": 198,
   "metadata": {},
   "outputs": [],
   "source": [
    "#columns\n",
    "dtype_list = ['usableAreas','totalAreas','parkingSpaces','suites','bedrooms'\n",
    ",'pricingInfos_price','pricingInfos_yearlyIptu','pricingInfos_monthlyCondoFee']\n",
    "\n",
    "dataset['interestingFlag'] = dataset['interestingFlag'].map({True:1, False:0}).astype('float')"
   ]
  },
  {
   "cell_type": "code",
   "execution_count": 199,
   "metadata": {},
   "outputs": [
    {
     "name": "stderr",
     "output_type": "stream",
     "text": [
      "/home/willy/Desktop/git/imoveis/env/lib/python3.6/site-packages/IPython/core/interactiveshell.py:3072: DtypeWarning: Columns (22) have mixed types.Specify dtype option on import or set low_memory=False.\n",
      "  interactivity=interactivity, compiler=compiler, result=result)\n"
     ]
    }
   ],
   "source": [
    "#reading\n",
    "dataset = pd.read_csv('data/processed/train_cleaned.csv.gzip',compression='gzip', sep =';')\n",
    "dataset[[x for x in dtype_list]] = dataset[[x for x in dtype_list]].astype('float')"
   ]
  },
  {
   "cell_type": "code",
   "execution_count": 200,
   "metadata": {},
   "outputs": [
    {
     "name": "stdout",
     "output_type": "stream",
     "text": [
      "razão: # de bairros/# de linhas = 0.03\n"
     ]
    }
   ],
   "source": [
    "#olhando as features \n",
    "_=dataset.address_neighborhood.nunique()/dataset[dataset.usableAreas!=0].shape[0]\n",
    "print(f'razão: # de bairros/# de linhas = {_:.2f}')"
   ]
  },
  {
   "cell_type": "code",
   "execution_count": 201,
   "metadata": {},
   "outputs": [
    {
     "name": "stdout",
     "output_type": "stream",
     "text": [
      "razão: # de área igual à 0/# de linhas = 0.37\n"
     ]
    }
   ],
   "source": [
    "_=dataset[dataset.usableAreas==0]['id'].count()/dataset.shape[0]\n",
    "print(f'razão: # de área igual à 0/# de linhas = {_:.2f}')"
   ]
  },
  {
   "cell_type": "markdown",
   "metadata": {},
   "source": [
    "### olhando a colireariedade, nos dados contínuos\n",
    "e torcendo"
   ]
  },
  {
   "cell_type": "code",
   "execution_count": 202,
   "metadata": {},
   "outputs": [
    {
     "name": "stdout",
     "output_type": "stream",
     "text": [
      "Features above VIF threshold:\n",
      "\n",
      "Empty DataFrame\n",
      "Columns: [VIF]\n",
      "Index: []\n"
     ]
    },
    {
     "data": {
      "text/plain": [
       "'done'"
      ]
     },
     "execution_count": 202,
     "metadata": {},
     "output_type": "execute_result"
    }
   ],
   "source": [
    "aux_list = ['usableAreas','parkingSpaces','suites','bedrooms'\n",
    ",'pricingInfos_yearlyIptu','pricingInfos_monthlyCondoFee']\n",
    "aux_df=dataset[(dataset['usableAreas']>0)&(dataset['pricingInfos_yearlyIptu']>0)\n",
    "               &(dataset['pricingInfos_monthlyCondoFee']>0)]\n",
    "\n",
    "calculate_vif_(aux_df[aux_list],5)"
   ]
  },
  {
   "cell_type": "code",
   "execution_count": 203,
   "metadata": {},
   "outputs": [],
   "source": [
    "dataset['usableAreas_flg']=dataset['usableAreas'].apply(lambda x: 1 if x>0 else 0)\n",
    "dataset.interestingFlag.fillna(0, inplace=True)"
   ]
  },
  {
   "cell_type": "markdown",
   "metadata": {},
   "source": [
    "#### Train/test"
   ]
  },
  {
   "cell_type": "code",
   "execution_count": 204,
   "metadata": {},
   "outputs": [],
   "source": [
    "from sklearn import preprocessing\n",
    "\n",
    "dataset=dataset[(dataset['usableAreas']>5)&(dataset['pricingInfos_price']<1000000)]\n",
    "dataset=pd.get_dummies(dataset, columns=[\"address_zone\"])\n",
    "\n",
    "x_col=['usableAreas', 'parkingSpaces', 'suites', 'bedrooms'\n",
    ",'bathrooms', 'pricingInfos_yearlyIptu', 'pricingInfos_monthlyCondoFee'\n",
    ",'usableAreas_flg', 'address_zone_Centro'\n",
    ",'address_zone_Zona Leste','address_zone_Zona Oeste', 'address_zone_Zona Sul']\n",
    "\n",
    "x=dataset[x_col]\n",
    "y =dataset['pricingInfos_price']\n",
    "x_train, x_test, y_train, y_test = train_test_split(x, y, test_size=0.2, random_state=seed)\n",
    "\n",
    "x_train_sc = preprocessing.scale(x_train)\n",
    "x_test_sc = preprocessing.scale(x_test)"
   ]
  },
  {
   "cell_type": "code",
   "execution_count": null,
   "metadata": {},
   "outputs": [],
   "source": []
  },
  {
   "cell_type": "markdown",
   "metadata": {},
   "source": [
    "#### Regression"
   ]
  },
  {
   "cell_type": "code",
   "execution_count": 205,
   "metadata": {
    "scrolled": true
   },
   "outputs": [
    {
     "data": {
      "text/html": [
       "<table class=\"simpletable\">\n",
       "<caption>OLS Regression Results</caption>\n",
       "<tr>\n",
       "  <th>Dep. Variable:</th>          <td>price</td>      <th>  R-squared:         </th>  <td>   0.658</td>  \n",
       "</tr>\n",
       "<tr>\n",
       "  <th>Model:</th>                   <td>OLS</td>       <th>  Adj. R-squared:    </th>  <td>   0.658</td>  \n",
       "</tr>\n",
       "<tr>\n",
       "  <th>Method:</th>             <td>Least Squares</td>  <th>  F-statistic:       </th>  <td>   4448.</td>  \n",
       "</tr>\n",
       "<tr>\n",
       "  <th>Date:</th>             <td>Tue, 13 Oct 2020</td> <th>  Prob (F-statistic):</th>   <td>  0.00</td>   \n",
       "</tr>\n",
       "<tr>\n",
       "  <th>Time:</th>                 <td>13:29:07</td>     <th>  Log-Likelihood:    </th> <td>-3.3654e+05</td>\n",
       "</tr>\n",
       "<tr>\n",
       "  <th>No. Observations:</th>      <td> 25484</td>      <th>  AIC:               </th>  <td>6.731e+05</td> \n",
       "</tr>\n",
       "<tr>\n",
       "  <th>Df Residuals:</th>          <td> 25472</td>      <th>  BIC:               </th>  <td>6.732e+05</td> \n",
       "</tr>\n",
       "<tr>\n",
       "  <th>Df Model:</th>              <td>    11</td>      <th>                     </th>      <td> </td>     \n",
       "</tr>\n",
       "<tr>\n",
       "  <th>Covariance Type:</th>      <td>nonrobust</td>    <th>                     </th>      <td> </td>     \n",
       "</tr>\n",
       "</table>\n",
       "<table class=\"simpletable\">\n",
       "<tr>\n",
       "                <td></td>                  <th>coef</th>     <th>std err</th>      <th>t</th>      <th>P>|t|</th>  <th>[0.025</th>    <th>0.975]</th>  \n",
       "</tr>\n",
       "<tr>\n",
       "  <th>const</th>                        <td>  4.32e+05</td> <td>  824.284</td> <td>  524.054</td> <td> 0.000</td> <td>  4.3e+05</td> <td> 4.34e+05</td>\n",
       "</tr>\n",
       "<tr>\n",
       "  <th>usableAreas</th>                  <td>  8.12e+04</td> <td> 1372.582</td> <td>   59.160</td> <td> 0.000</td> <td> 7.85e+04</td> <td> 8.39e+04</td>\n",
       "</tr>\n",
       "<tr>\n",
       "  <th>parkingSpaces</th>                <td> 2.043e+04</td> <td> 1142.092</td> <td>   17.886</td> <td> 0.000</td> <td> 1.82e+04</td> <td> 2.27e+04</td>\n",
       "</tr>\n",
       "<tr>\n",
       "  <th>suites</th>                       <td> 2.773e+04</td> <td> 1184.032</td> <td>   23.422</td> <td> 0.000</td> <td> 2.54e+04</td> <td> 3.01e+04</td>\n",
       "</tr>\n",
       "<tr>\n",
       "  <th>bedrooms</th>                     <td>-6755.6300</td> <td> 1127.813</td> <td>   -5.990</td> <td> 0.000</td> <td>-8966.208</td> <td>-4545.052</td>\n",
       "</tr>\n",
       "<tr>\n",
       "  <th>bathrooms</th>                    <td> 2.979e+04</td> <td> 1205.210</td> <td>   24.718</td> <td> 0.000</td> <td> 2.74e+04</td> <td> 3.22e+04</td>\n",
       "</tr>\n",
       "<tr>\n",
       "  <th>pricingInfos_yearlyIptu</th>      <td> 3.484e+04</td> <td>  867.891</td> <td>   40.146</td> <td> 0.000</td> <td> 3.31e+04</td> <td> 3.65e+04</td>\n",
       "</tr>\n",
       "<tr>\n",
       "  <th>pricingInfos_monthlyCondoFee</th> <td> 5.365e+04</td> <td> 1005.918</td> <td>   53.337</td> <td> 0.000</td> <td> 5.17e+04</td> <td> 5.56e+04</td>\n",
       "</tr>\n",
       "<tr>\n",
       "  <th>usableAreas_flg</th>              <td>-2.216e-11</td> <td> 6.27e-13</td> <td>  -35.335</td> <td> 0.000</td> <td>-2.34e-11</td> <td>-2.09e-11</td>\n",
       "</tr>\n",
       "<tr>\n",
       "  <th>address_zone_Centro</th>          <td> 3.406e+04</td> <td> 1013.783</td> <td>   33.599</td> <td> 0.000</td> <td> 3.21e+04</td> <td>  3.6e+04</td>\n",
       "</tr>\n",
       "<tr>\n",
       "  <th>address_zone_Zona Leste</th>      <td> 6344.3766</td> <td> 1084.951</td> <td>    5.848</td> <td> 0.000</td> <td> 4217.812</td> <td> 8470.942</td>\n",
       "</tr>\n",
       "<tr>\n",
       "  <th>address_zone_Zona Oeste</th>      <td> 3.726e+04</td> <td> 1047.293</td> <td>   35.577</td> <td> 0.000</td> <td> 3.52e+04</td> <td> 3.93e+04</td>\n",
       "</tr>\n",
       "<tr>\n",
       "  <th>address_zone_Zona Sul</th>        <td> 4.266e+04</td> <td> 1173.789</td> <td>   36.342</td> <td> 0.000</td> <td> 4.04e+04</td> <td>  4.5e+04</td>\n",
       "</tr>\n",
       "</table>\n",
       "<table class=\"simpletable\">\n",
       "<tr>\n",
       "  <th>Omnibus:</th>       <td>2510.609</td> <th>  Durbin-Watson:     </th> <td>   1.991</td> \n",
       "</tr>\n",
       "<tr>\n",
       "  <th>Prob(Omnibus):</th>  <td> 0.000</td>  <th>  Jarque-Bera (JB):  </th> <td>18379.848</td>\n",
       "</tr>\n",
       "<tr>\n",
       "  <th>Skew:</th>           <td> 0.158</td>  <th>  Prob(JB):          </th> <td>    0.00</td> \n",
       "</tr>\n",
       "<tr>\n",
       "  <th>Kurtosis:</th>       <td> 7.148</td>  <th>  Cond. No.          </th> <td>2.57e+16</td> \n",
       "</tr>\n",
       "</table><br/><br/>Notes:<br/>[1] Standard Errors assume that the covariance matrix of the errors is correctly specified.<br/>[2] The smallest eigenvalue is 1.38e-28. This might indicate that there are<br/>strong multicollinearity problems or that the design matrix is singular."
      ],
      "text/plain": [
       "<class 'statsmodels.iolib.summary.Summary'>\n",
       "\"\"\"\n",
       "                            OLS Regression Results                            \n",
       "==============================================================================\n",
       "Dep. Variable:                  price   R-squared:                       0.658\n",
       "Model:                            OLS   Adj. R-squared:                  0.658\n",
       "Method:                 Least Squares   F-statistic:                     4448.\n",
       "Date:                Tue, 13 Oct 2020   Prob (F-statistic):               0.00\n",
       "Time:                        13:29:07   Log-Likelihood:            -3.3654e+05\n",
       "No. Observations:               25484   AIC:                         6.731e+05\n",
       "Df Residuals:                   25472   BIC:                         6.732e+05\n",
       "Df Model:                          11                                         \n",
       "Covariance Type:            nonrobust                                         \n",
       "================================================================================================\n",
       "                                   coef    std err          t      P>|t|      [0.025      0.975]\n",
       "------------------------------------------------------------------------------------------------\n",
       "const                          4.32e+05    824.284    524.054      0.000     4.3e+05    4.34e+05\n",
       "usableAreas                    8.12e+04   1372.582     59.160      0.000    7.85e+04    8.39e+04\n",
       "parkingSpaces                 2.043e+04   1142.092     17.886      0.000    1.82e+04    2.27e+04\n",
       "suites                        2.773e+04   1184.032     23.422      0.000    2.54e+04    3.01e+04\n",
       "bedrooms                     -6755.6300   1127.813     -5.990      0.000   -8966.208   -4545.052\n",
       "bathrooms                     2.979e+04   1205.210     24.718      0.000    2.74e+04    3.22e+04\n",
       "pricingInfos_yearlyIptu       3.484e+04    867.891     40.146      0.000    3.31e+04    3.65e+04\n",
       "pricingInfos_monthlyCondoFee  5.365e+04   1005.918     53.337      0.000    5.17e+04    5.56e+04\n",
       "usableAreas_flg              -2.216e-11   6.27e-13    -35.335      0.000   -2.34e-11   -2.09e-11\n",
       "address_zone_Centro           3.406e+04   1013.783     33.599      0.000    3.21e+04     3.6e+04\n",
       "address_zone_Zona Leste       6344.3766   1084.951      5.848      0.000    4217.812    8470.942\n",
       "address_zone_Zona Oeste       3.726e+04   1047.293     35.577      0.000    3.52e+04    3.93e+04\n",
       "address_zone_Zona Sul         4.266e+04   1173.789     36.342      0.000    4.04e+04     4.5e+04\n",
       "==============================================================================\n",
       "Omnibus:                     2510.609   Durbin-Watson:                   1.991\n",
       "Prob(Omnibus):                  0.000   Jarque-Bera (JB):            18379.848\n",
       "Skew:                           0.158   Prob(JB):                         0.00\n",
       "Kurtosis:                       7.148   Cond. No.                     2.57e+16\n",
       "==============================================================================\n",
       "\n",
       "Notes:\n",
       "[1] Standard Errors assume that the covariance matrix of the errors is correctly specified.\n",
       "[2] The smallest eigenvalue is 1.38e-28. This might indicate that there are\n",
       "strong multicollinearity problems or that the design matrix is singular.\n",
       "\"\"\""
      ]
     },
     "execution_count": 205,
     "metadata": {},
     "output_type": "execute_result"
    }
   ],
   "source": [
    "import statsmodels.api as sm\n",
    "from sklearn.metrics import mean_squared_error,mean_absolute_error\n",
    "\n",
    "x = sm.add_constant(pd.DataFrame(x_train_sc, columns=x_col))\n",
    "est = sm.OLS(pd.DataFrame(y_train.values, columns=['price']), x)\n",
    "est = est.fit()\n",
    "est.summary()"
   ]
  },
  {
   "cell_type": "code",
   "execution_count": 217,
   "metadata": {},
   "outputs": [
    {
     "name": "stdout",
     "output_type": "stream",
     "text": [
      "mse:132123.1869151812\n",
      "mae:96695.73010973803\n"
     ]
    }
   ],
   "source": [
    "_ = sm.add_constant(pd.DataFrame(x_test_sc, columns=x_col))\n",
    "y_pred = est.predict(exog=_)\n",
    "\n",
    "mse =mean_squared_error(y_test, y_pred,squared=False)\n",
    "mae=mean_absolute_error(y_test, y_pred)\n",
    "print(f'mse:{mse}\\nmae:{mae}')"
   ]
  },
  {
   "cell_type": "code",
   "execution_count": null,
   "metadata": {},
   "outputs": [],
   "source": []
  },
  {
   "cell_type": "code",
   "execution_count": null,
   "metadata": {},
   "outputs": [],
   "source": []
  },
  {
   "cell_type": "code",
   "execution_count": null,
   "metadata": {},
   "outputs": [],
   "source": []
  },
  {
   "cell_type": "code",
   "execution_count": null,
   "metadata": {},
   "outputs": [],
   "source": []
  },
  {
   "cell_type": "code",
   "execution_count": null,
   "metadata": {},
   "outputs": [],
   "source": []
  },
  {
   "cell_type": "code",
   "execution_count": null,
   "metadata": {},
   "outputs": [],
   "source": []
  }
 ],
 "metadata": {
  "kernelspec": {
   "display_name": "Python 3",
   "language": "python",
   "name": "python3"
  },
  "language_info": {
   "codemirror_mode": {
    "name": "ipython",
    "version": 3
   },
   "file_extension": ".py",
   "mimetype": "text/x-python",
   "name": "python",
   "nbconvert_exporter": "python",
   "pygments_lexer": "ipython3",
   "version": "3.6.9"
  }
 },
 "nbformat": 4,
 "nbformat_minor": 4
}

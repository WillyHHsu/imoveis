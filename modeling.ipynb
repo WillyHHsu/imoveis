{
 "cells": [
  {
   "cell_type": "code",
   "execution_count": 50,
   "metadata": {},
   "outputs": [
    {
     "name": "stdout",
     "output_type": "stream",
     "text": [
      "Requirement already satisfied: statsmodels in ./env/lib/python3.6/site-packages (0.12.0)\r\n",
      "Requirement already satisfied: pandas>=0.21 in ./env/lib/python3.6/site-packages (from statsmodels) (1.1.3)\r\n",
      "Requirement already satisfied: scipy>=1.1 in ./env/lib/python3.6/site-packages (from statsmodels) (1.5.2)\r\n",
      "Requirement already satisfied: patsy>=0.5 in ./env/lib/python3.6/site-packages (from statsmodels) (0.5.1)\r\n",
      "Requirement already satisfied: numpy>=1.15 in ./env/lib/python3.6/site-packages (from statsmodels) (1.19.2)\r\n",
      "Requirement already satisfied: pytz>=2017.2 in ./env/lib/python3.6/site-packages (from pandas>=0.21->statsmodels) (2020.1)\r\n",
      "Requirement already satisfied: python-dateutil>=2.7.3 in ./env/lib/python3.6/site-packages (from pandas>=0.21->statsmodels) (2.8.1)\r\n",
      "Requirement already satisfied: six in ./env/lib/python3.6/site-packages (from patsy>=0.5->statsmodels) (1.15.0)\r\n"
     ]
    }
   ],
   "source": [
    "!pip3 install statsmodels"
   ]
  },
  {
   "cell_type": "code",
   "execution_count": 57,
   "metadata": {},
   "outputs": [],
   "source": [
    "import statsmodels.api as sm\n",
    "from statsmodels.stats.outliers_influence import variance_inflation_factor"
   ]
  },
  {
   "cell_type": "code",
   "execution_count": 58,
   "metadata": {},
   "outputs": [],
   "source": [
    "import pandas as pd\n",
    "import numpy as np\n",
    "\n",
    "pd.set_option('display.max_columns', None)\n",
    "pd.set_option('display.float_format', lambda x: '%.3f' % x)\n",
    "pd.options.display.float_format = '{:,.2f}'.format\n",
    "\n",
    "seed=42\n",
    "np.random.seed = 42"
   ]
  },
  {
   "cell_type": "code",
   "execution_count": 41,
   "metadata": {},
   "outputs": [],
   "source": [
    "#columns\n",
    "usefullCollumns_list = ['id','usableAreas','totalAreas','parkingSpaces','address_zone'\n",
    ",'address_neighborhood','suites','bedrooms','bathrooms','pricingInfos_price','pricingInfos_yearlyIptu'\n",
    ",'pricingInfos_monthlyCondoFee','interestingFlag']\n",
    "\n",
    "dtype_list = ['usableAreas','totalAreas','parkingSpaces','suites','bedrooms'\n",
    ",'pricingInfos_price','pricingInfos_yearlyIptu','pricingInfos_monthlyCondoFee']"
   ]
  },
  {
   "cell_type": "code",
   "execution_count": 42,
   "metadata": {},
   "outputs": [
    {
     "name": "stderr",
     "output_type": "stream",
     "text": [
      "/home/willy/Desktop/imoveis/env/lib/python3.6/site-packages/IPython/core/interactiveshell.py:3072: DtypeWarning: Columns (22) have mixed types.Specify dtype option on import or set low_memory=False.\n",
      "  interactivity=interactivity, compiler=compiler, result=result)\n"
     ]
    }
   ],
   "source": [
    "#reading\n",
    "dataset = pd.read_csv('data/processed/train_cleaned.csv.gzip',compression='gzip', sep =';')\n",
    "dataset[[x for x in dtype_list]] = dataset[[x for x in dtype_list]].astype('float')"
   ]
  },
  {
   "cell_type": "code",
   "execution_count": 43,
   "metadata": {},
   "outputs": [
    {
     "name": "stdout",
     "output_type": "stream",
     "text": [
      "razão: # de bairros/# de linhas = 0.03\n"
     ]
    }
   ],
   "source": [
    "_ = dataset.address_neighborhood.nunique()/dataset[dataset.usableAreas!=0].shape[0]\n",
    "print(f'razão: # de bairros/# de linhas = {_:.2f}')"
   ]
  },
  {
   "cell_type": "code",
   "execution_count": 44,
   "metadata": {},
   "outputs": [],
   "source": [
    "dataset['usableAreasFlag']=dataset['usableAreas'].apply(lambda x: 1 if x>0 else 0)"
   ]
  },
  {
   "cell_type": "code",
   "execution_count": null,
   "metadata": {
    "scrolled": true
   },
   "outputs": [],
   "source": []
  },
  {
   "cell_type": "code",
   "execution_count": null,
   "metadata": {},
   "outputs": [],
   "source": []
  },
  {
   "cell_type": "code",
   "execution_count": null,
   "metadata": {},
   "outputs": [],
   "source": []
  }
 ],
 "metadata": {
  "kernelspec": {
   "display_name": "Python 3",
   "language": "python",
   "name": "python3"
  },
  "language_info": {
   "codemirror_mode": {
    "name": "ipython",
    "version": 3
   },
   "file_extension": ".py",
   "mimetype": "text/x-python",
   "name": "python",
   "nbconvert_exporter": "python",
   "pygments_lexer": "ipython3",
   "version": "3.6.9"
  }
 },
 "nbformat": 4,
 "nbformat_minor": 4
}

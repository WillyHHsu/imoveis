{
 "cells": [
  {
   "cell_type": "code",
   "execution_count": 268,
   "metadata": {},
   "outputs": [],
   "source": [
    "import pandas as pd\n",
    "import numpy as np\n",
    "\n",
    "from statsmodels.stats.outliers_influence import variance_inflation_factor \n",
    "from statsmodels.tools.tools import add_constant\n",
    "\n",
    "pd.set_option('display.max_columns', None)\n",
    "pd.set_option('display.float_format', lambda x: '%.3f' % x)\n",
    "pd.options.display.float_format = '{:,.2f}'.format\n",
    "\n",
    "from sklearn.model_selection import train_test_split\n",
    "\n",
    "\n",
    "seed=42\n",
    "np.random.seed = 42"
   ]
  },
  {
   "cell_type": "code",
   "execution_count": 269,
   "metadata": {},
   "outputs": [],
   "source": [
    "def calculate_vif_(df, thresh=5):\n",
    "    '''\n",
    "    Calculates VIF each feature in a pandas dataframe\n",
    "    A constant must be added to variance_inflation_factor or the results will be incorrect\n",
    "\n",
    "    :param df: the pandas dataframe containing only the predictor features, not the response variable\n",
    "    :param thresh: the max VIF value before the feature is removed from the dataframe\n",
    "    :return: dataframe with features removed\n",
    "    '''\n",
    "    const=add_constant(df)\n",
    "    cols=const.columns\n",
    "    variables=np.arange(const.shape[1])\n",
    "    vif_df=pd.Series([variance_inflation_factor(const.values, i) \n",
    "               for i in range(const.shape[1])], \n",
    "              index=const.columns).to_frame()\n",
    "\n",
    "    vif_df=vif_df.sort_values(by=0, ascending=False).rename(columns={0: 'VIF'})\n",
    "    vif_df=vif_df.drop('const')\n",
    "    vif_df=vif_df[vif_df['VIF'] > thresh]\n",
    "\n",
    "    print('Features above VIF threshold:\\n')\n",
    "    print(vif_df[vif_df['VIF'] > thresh])\n",
    "\n",
    "    col_to_drop = list(vif_df.index)\n",
    "\n",
    "    for i in col_to_drop:\n",
    "        print('Dropping: {}'.format(i))\n",
    "        df = df.drop(columns=i)\n",
    "\n",
    "    return 'done'"
   ]
  },
  {
   "cell_type": "code",
   "execution_count": 270,
   "metadata": {},
   "outputs": [],
   "source": [
    "#columns\n",
    "dtype_list = ['usableAreas','totalAreas','parkingSpaces','suites','bedrooms'\n",
    ",'pricingInfos_price','pricingInfos_yearlyIptu','pricingInfos_monthlyCondoFee']\n",
    "\n",
    "dataset['interestingFlag'] = dataset['interestingFlag'].map({True:1, False:0}).astype('float')"
   ]
  },
  {
   "cell_type": "code",
   "execution_count": 271,
   "metadata": {},
   "outputs": [
    {
     "name": "stderr",
     "output_type": "stream",
     "text": [
      "/home/villy/Desktop/git/imoveis/env/lib/python3.8/site-packages/IPython/core/interactiveshell.py:3145: DtypeWarning: Columns (22) have mixed types.Specify dtype option on import or set low_memory=False.\n",
      "  has_raised = await self.run_ast_nodes(code_ast.body, cell_name,\n"
     ]
    }
   ],
   "source": [
    "#reading\n",
    "dataset = pd.read_csv('data/processed/train_cleaned.csv.gzip',compression='gzip', sep =';')\n",
    "dataset[[x for x in dtype_list]] = dataset[[x for x in dtype_list]].astype('float')"
   ]
  },
  {
   "cell_type": "code",
   "execution_count": 272,
   "metadata": {},
   "outputs": [
    {
     "name": "stdout",
     "output_type": "stream",
     "text": [
      "razão: # de bairros/# de linhas = 0.03\n"
     ]
    }
   ],
   "source": [
    "#olhando as features \n",
    "_=dataset.address_neighborhood.nunique()/dataset[dataset.usableAreas!=0].shape[0]\n",
    "print(f'razão: # de bairros/# de linhas = {_:.2f}')"
   ]
  },
  {
   "cell_type": "code",
   "execution_count": 273,
   "metadata": {},
   "outputs": [
    {
     "name": "stdout",
     "output_type": "stream",
     "text": [
      "razão: # de área igual à 0/# de linhas = 0.37\n"
     ]
    }
   ],
   "source": [
    "_=dataset[dataset.usableAreas==0]['id'].count()/dataset.shape[0]\n",
    "print(f'razão: # de área igual à 0/# de linhas = {_:.2f}')"
   ]
  },
  {
   "cell_type": "code",
   "execution_count": 274,
   "metadata": {},
   "outputs": [
    {
     "name": "stdout",
     "output_type": "stream",
     "text": [
      "Features above VIF threshold:\n",
      "\n",
      "Empty DataFrame\n",
      "Columns: [VIF]\n",
      "Index: []\n"
     ]
    },
    {
     "data": {
      "text/plain": [
       "'done'"
      ]
     },
     "execution_count": 274,
     "metadata": {},
     "output_type": "execute_result"
    }
   ],
   "source": [
    "#olhando a colireariedade, nos dados contínuos, e torcendo\n",
    "aux_list = ['usableAreas','parkingSpaces','suites','bedrooms'\n",
    ",'pricingInfos_yearlyIptu','pricingInfos_monthlyCondoFee']\n",
    "aux_df=dataset[(dataset['usableAreas']>0)&(dataset['pricingInfos_yearlyIptu']>0)\n",
    "               &(dataset['pricingInfos_monthlyCondoFee']>0)]\n",
    "\n",
    "calculate_vif_(aux_df[aux_list],5)"
   ]
  },
  {
   "cell_type": "code",
   "execution_count": 275,
   "metadata": {},
   "outputs": [],
   "source": [
    "dataset['usableAreas_flg']=dataset['usableAreas'].apply(lambda x: 1 if x>0 else 0)"
   ]
  },
  {
   "cell_type": "markdown",
   "metadata": {},
   "source": [
    "#### Train/test"
   ]
  },
  {
   "cell_type": "code",
   "execution_count": 276,
   "metadata": {},
   "outputs": [],
   "source": [
    "from sklearn import preprocessing\n",
    "dataset.interestingFlag.fillna(0, inplace=True)\n",
    "dataset=pd.get_dummies(dataset, columns=[\"address_zone\"])\n",
    "\n",
    "x_col=['usableAreas', 'totalAreas', 'parkingSpaces', 'suites', 'bedrooms'\n",
    ",'bathrooms', 'pricingInfos_yearlyIptu', 'pricingInfos_monthlyCondoFee'\n",
    ",'interestingFlag', 'usableAreas_flg', 'address_zone_Centro'\n",
    ",'address_zone_Zona Leste','address_zone_Zona Oeste', 'address_zone_Zona Sul']\n",
    "\n",
    "x=dataset[x_col]\n",
    "y =dataset['pricingInfos_price']\n",
    "x_train, x_test, y_train, y_test = train_test_split(x, y, test_size=0.33, random_state=seed)\n",
    "\n",
    "x_train = preprocessing.scale(x_train)\n",
    "x_test = preprocessing.scale(x_test)"
   ]
  },
  {
   "cell_type": "code",
   "execution_count": 266,
   "metadata": {},
   "outputs": [],
   "source": [
    "x_test = pd.DataFrame(x_test, columns=x_col)\n",
    "x_train = pd.DataFrame(x_train, columns=x_col)"
   ]
  },
  {
   "cell_type": "markdown",
   "metadata": {},
   "source": [
    "#### Regression"
   ]
  },
  {
   "cell_type": "code",
   "execution_count": 288,
   "metadata": {
    "scrolled": true
   },
   "outputs": [],
   "source": [
    "import statsmodels.api as sm\n",
    "\n",
    "x = x_train\n",
    "y = y_train\n",
    "\n",
    "x2 = sm.add_constant(pd.DataFrame(x_train, columns=x_col))\n",
    "est = sm.OLS(pd.DataFrame(y_train.values, columns=['price']), x2)\n",
    "est = est.fit()"
   ]
  },
  {
   "cell_type": "code",
   "execution_count": 289,
   "metadata": {},
   "outputs": [
    {
     "data": {
      "text/html": [
       "<table class=\"simpletable\">\n",
       "<caption>OLS Regression Results</caption>\n",
       "<tr>\n",
       "  <th>Dep. Variable:</th>          <td>price</td>      <th>  R-squared:         </th>  <td>   0.717</td>  \n",
       "</tr>\n",
       "<tr>\n",
       "  <th>Model:</th>                   <td>OLS</td>       <th>  Adj. R-squared:    </th>  <td>   0.717</td>  \n",
       "</tr>\n",
       "<tr>\n",
       "  <th>Method:</th>             <td>Least Squares</td>  <th>  F-statistic:       </th>  <td>   7783.</td>  \n",
       "</tr>\n",
       "<tr>\n",
       "  <th>Date:</th>             <td>Mon, 12 Oct 2020</td> <th>  Prob (F-statistic):</th>   <td>  0.00</td>   \n",
       "</tr>\n",
       "<tr>\n",
       "  <th>Time:</th>                 <td>23:28:46</td>     <th>  Log-Likelihood:    </th> <td>-6.1959e+05</td>\n",
       "</tr>\n",
       "<tr>\n",
       "  <th>No. Observations:</th>      <td> 42942</td>      <th>  AIC:               </th>  <td>1.239e+06</td> \n",
       "</tr>\n",
       "<tr>\n",
       "  <th>Df Residuals:</th>          <td> 42927</td>      <th>  BIC:               </th>  <td>1.239e+06</td> \n",
       "</tr>\n",
       "<tr>\n",
       "  <th>Df Model:</th>              <td>    14</td>      <th>                     </th>      <td> </td>     \n",
       "</tr>\n",
       "<tr>\n",
       "  <th>Covariance Type:</th>      <td>nonrobust</td>    <th>                     </th>      <td> </td>     \n",
       "</tr>\n",
       "</table>\n",
       "<table class=\"simpletable\">\n",
       "<tr>\n",
       "                <td></td>                  <th>coef</th>     <th>std err</th>      <th>t</th>      <th>P>|t|</th>  <th>[0.025</th>    <th>0.975]</th>  \n",
       "</tr>\n",
       "<tr>\n",
       "  <th>const</th>                        <td> 7.408e+05</td> <td> 2155.890</td> <td>  343.639</td> <td> 0.000</td> <td> 7.37e+05</td> <td> 7.45e+05</td>\n",
       "</tr>\n",
       "<tr>\n",
       "  <th>usableAreas</th>                  <td>  2.89e+05</td> <td> 6430.499</td> <td>   44.934</td> <td> 0.000</td> <td> 2.76e+05</td> <td> 3.02e+05</td>\n",
       "</tr>\n",
       "<tr>\n",
       "  <th>totalAreas</th>                   <td>-7.739e+04</td> <td> 5626.499</td> <td>  -13.755</td> <td> 0.000</td> <td>-8.84e+04</td> <td>-6.64e+04</td>\n",
       "</tr>\n",
       "<tr>\n",
       "  <th>parkingSpaces</th>                <td> 1.564e+05</td> <td> 3666.376</td> <td>   42.647</td> <td> 0.000</td> <td> 1.49e+05</td> <td> 1.64e+05</td>\n",
       "</tr>\n",
       "<tr>\n",
       "  <th>suites</th>                       <td> 7.754e+04</td> <td> 3782.025</td> <td>   20.503</td> <td> 0.000</td> <td> 7.01e+04</td> <td>  8.5e+04</td>\n",
       "</tr>\n",
       "<tr>\n",
       "  <th>bedrooms</th>                     <td>-2.229e+04</td> <td> 3022.267</td> <td>   -7.374</td> <td> 0.000</td> <td>-2.82e+04</td> <td>-1.64e+04</td>\n",
       "</tr>\n",
       "<tr>\n",
       "  <th>bathrooms</th>                    <td> 4.779e+04</td> <td> 3503.097</td> <td>   13.642</td> <td> 0.000</td> <td> 4.09e+04</td> <td> 5.47e+04</td>\n",
       "</tr>\n",
       "<tr>\n",
       "  <th>pricingInfos_yearlyIptu</th>      <td> 2.651e+05</td> <td> 2419.132</td> <td>  109.565</td> <td> 0.000</td> <td>  2.6e+05</td> <td>  2.7e+05</td>\n",
       "</tr>\n",
       "<tr>\n",
       "  <th>pricingInfos_monthlyCondoFee</th> <td> 2.758e+05</td> <td> 2968.358</td> <td>   92.921</td> <td> 0.000</td> <td>  2.7e+05</td> <td> 2.82e+05</td>\n",
       "</tr>\n",
       "<tr>\n",
       "  <th>interestingFlag</th>              <td> 5840.7126</td> <td> 2175.755</td> <td>    2.684</td> <td> 0.007</td> <td> 1576.191</td> <td> 1.01e+04</td>\n",
       "</tr>\n",
       "<tr>\n",
       "  <th>usableAreas_flg</th>              <td>-1.215e+05</td> <td> 3206.053</td> <td>  -37.901</td> <td> 0.000</td> <td>-1.28e+05</td> <td>-1.15e+05</td>\n",
       "</tr>\n",
       "<tr>\n",
       "  <th>address_zone_Centro</th>          <td> 7.851e+04</td> <td> 2707.414</td> <td>   28.999</td> <td> 0.000</td> <td> 7.32e+04</td> <td> 8.38e+04</td>\n",
       "</tr>\n",
       "<tr>\n",
       "  <th>address_zone_Zona Leste</th>      <td> 1.271e+04</td> <td> 2780.047</td> <td>    4.574</td> <td> 0.000</td> <td> 7265.734</td> <td> 1.82e+04</td>\n",
       "</tr>\n",
       "<tr>\n",
       "  <th>address_zone_Zona Oeste</th>      <td> 4.429e+04</td> <td> 2728.646</td> <td>   16.230</td> <td> 0.000</td> <td> 3.89e+04</td> <td> 4.96e+04</td>\n",
       "</tr>\n",
       "<tr>\n",
       "  <th>address_zone_Zona Sul</th>        <td>  8.64e+04</td> <td> 3130.180</td> <td>   27.603</td> <td> 0.000</td> <td> 8.03e+04</td> <td> 9.25e+04</td>\n",
       "</tr>\n",
       "</table>\n",
       "<table class=\"simpletable\">\n",
       "<tr>\n",
       "  <th>Omnibus:</th>       <td>38356.499</td> <th>  Durbin-Watson:     </th>  <td>   2.020</td>  \n",
       "</tr>\n",
       "<tr>\n",
       "  <th>Prob(Omnibus):</th>  <td> 0.000</td>   <th>  Jarque-Bera (JB):  </th> <td>3872808.261</td>\n",
       "</tr>\n",
       "<tr>\n",
       "  <th>Skew:</th>           <td> 3.888</td>   <th>  Prob(JB):          </th>  <td>    0.00</td>  \n",
       "</tr>\n",
       "<tr>\n",
       "  <th>Kurtosis:</th>       <td>48.870</td>   <th>  Cond. No.          </th>  <td>    7.95</td>  \n",
       "</tr>\n",
       "</table><br/><br/>Notes:<br/>[1] Standard Errors assume that the covariance matrix of the errors is correctly specified."
      ],
      "text/plain": [
       "<class 'statsmodels.iolib.summary.Summary'>\n",
       "\"\"\"\n",
       "                            OLS Regression Results                            \n",
       "==============================================================================\n",
       "Dep. Variable:                  price   R-squared:                       0.717\n",
       "Model:                            OLS   Adj. R-squared:                  0.717\n",
       "Method:                 Least Squares   F-statistic:                     7783.\n",
       "Date:                Mon, 12 Oct 2020   Prob (F-statistic):               0.00\n",
       "Time:                        23:28:46   Log-Likelihood:            -6.1959e+05\n",
       "No. Observations:               42942   AIC:                         1.239e+06\n",
       "Df Residuals:                   42927   BIC:                         1.239e+06\n",
       "Df Model:                          14                                         \n",
       "Covariance Type:            nonrobust                                         \n",
       "================================================================================================\n",
       "                                   coef    std err          t      P>|t|      [0.025      0.975]\n",
       "------------------------------------------------------------------------------------------------\n",
       "const                         7.408e+05   2155.890    343.639      0.000    7.37e+05    7.45e+05\n",
       "usableAreas                    2.89e+05   6430.499     44.934      0.000    2.76e+05    3.02e+05\n",
       "totalAreas                   -7.739e+04   5626.499    -13.755      0.000   -8.84e+04   -6.64e+04\n",
       "parkingSpaces                 1.564e+05   3666.376     42.647      0.000    1.49e+05    1.64e+05\n",
       "suites                        7.754e+04   3782.025     20.503      0.000    7.01e+04     8.5e+04\n",
       "bedrooms                     -2.229e+04   3022.267     -7.374      0.000   -2.82e+04   -1.64e+04\n",
       "bathrooms                     4.779e+04   3503.097     13.642      0.000    4.09e+04    5.47e+04\n",
       "pricingInfos_yearlyIptu       2.651e+05   2419.132    109.565      0.000     2.6e+05     2.7e+05\n",
       "pricingInfos_monthlyCondoFee  2.758e+05   2968.358     92.921      0.000     2.7e+05    2.82e+05\n",
       "interestingFlag               5840.7126   2175.755      2.684      0.007    1576.191    1.01e+04\n",
       "usableAreas_flg              -1.215e+05   3206.053    -37.901      0.000   -1.28e+05   -1.15e+05\n",
       "address_zone_Centro           7.851e+04   2707.414     28.999      0.000    7.32e+04    8.38e+04\n",
       "address_zone_Zona Leste       1.271e+04   2780.047      4.574      0.000    7265.734    1.82e+04\n",
       "address_zone_Zona Oeste       4.429e+04   2728.646     16.230      0.000    3.89e+04    4.96e+04\n",
       "address_zone_Zona Sul          8.64e+04   3130.180     27.603      0.000    8.03e+04    9.25e+04\n",
       "==============================================================================\n",
       "Omnibus:                    38356.499   Durbin-Watson:                   2.020\n",
       "Prob(Omnibus):                  0.000   Jarque-Bera (JB):          3872808.261\n",
       "Skew:                           3.888   Prob(JB):                         0.00\n",
       "Kurtosis:                      48.870   Cond. No.                         7.95\n",
       "==============================================================================\n",
       "\n",
       "Notes:\n",
       "[1] Standard Errors assume that the covariance matrix of the errors is correctly specified.\n",
       "\"\"\""
      ]
     },
     "execution_count": 289,
     "metadata": {},
     "output_type": "execute_result"
    }
   ],
   "source": [
    "est.summary()"
   ]
  },
  {
   "cell_type": "code",
   "execution_count": 230,
   "metadata": {},
   "outputs": [
    {
     "data": {
      "text/plain": [
       "const    740,848.95\n",
       "x1       288,950.38\n",
       "x2       -77,390.09\n",
       "x3       156,358.57\n",
       "x4        77,541.93\n",
       "x5       -22,287.05\n",
       "x6        47,789.09\n",
       "x7       265,052.60\n",
       "x8       275,823.72\n",
       "x9         5,840.71\n",
       "x10     -121,513.68\n",
       "x11       78,511.96\n",
       "x12       12,714.68\n",
       "x13       44,286.24\n",
       "x14       86,403.71\n",
       "dtype: float64"
      ]
     },
     "execution_count": 230,
     "metadata": {},
     "output_type": "execute_result"
    }
   ],
   "source": [
    "est.params"
   ]
  },
  {
   "cell_type": "code",
   "execution_count": null,
   "metadata": {},
   "outputs": [],
   "source": []
  },
  {
   "cell_type": "code",
   "execution_count": null,
   "metadata": {},
   "outputs": [],
   "source": []
  },
  {
   "cell_type": "code",
   "execution_count": null,
   "metadata": {},
   "outputs": [],
   "source": []
  },
  {
   "cell_type": "code",
   "execution_count": null,
   "metadata": {},
   "outputs": [],
   "source": []
  },
  {
   "cell_type": "code",
   "execution_count": null,
   "metadata": {},
   "outputs": [],
   "source": []
  },
  {
   "cell_type": "code",
   "execution_count": null,
   "metadata": {},
   "outputs": [],
   "source": []
  },
  {
   "cell_type": "code",
   "execution_count": null,
   "metadata": {},
   "outputs": [],
   "source": []
  }
 ],
 "metadata": {
  "kernelspec": {
   "display_name": "Python 3",
   "language": "python",
   "name": "python3"
  },
  "language_info": {
   "codemirror_mode": {
    "name": "ipython",
    "version": 3
   },
   "file_extension": ".py",
   "mimetype": "text/x-python",
   "name": "python",
   "nbconvert_exporter": "python",
   "pygments_lexer": "ipython3",
   "version": "3.8.5"
  }
 },
 "nbformat": 4,
 "nbformat_minor": 4
}

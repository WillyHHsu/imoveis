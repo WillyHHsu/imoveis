{
 "cells": [
  {
   "cell_type": "markdown",
   "metadata": {},
   "source": [
    "Há 5 notebooks com esse incluso. O índice é a ordem em que foram criados. \n",
    "\n",
    "1.parsing.ipynb - faz o flat dos JSON\n",
    "2.cleaning.ipynb - limpa os dados e \n",
    "3.exploring.ipynb - olha um pouco do comportamento dos dados\n",
    "4.modeling.ipynb - o desenvolvimento do modelo em si\n",
    "5.testingLastFile.ipynb - processando os dados de teste \n",
    "\n",
    "fora isso há 4 pastas\n",
    "-data\n",
    "--raw - arquivos fornecidos\n",
    "--procesed - arquivos processados\n",
    "-env - nome da virtualenv\n",
    "-img - imagens que poderiam ter sido usados para um PPT ou algo do tipo\n",
    "-model - .pickle do modelo, pode ser interessante para versionamento"
   ]
  },
  {
   "cell_type": "markdown",
   "metadata": {},
   "source": [
    "<h1> Cleaning.ipynb</h1>\n",
    "    \n",
    "Esse notebook tem duas etapas:\n",
    "1. Limpando na mão alguns dados pontuais\n",
    "2. Limpanda de forma mais genérica \n",
    "\n"
   ]
  }
 ],
 "metadata": {
  "kernelspec": {
   "display_name": "Python 3",
   "language": "python",
   "name": "python3"
  },
  "language_info": {
   "codemirror_mode": {
    "name": "ipython",
    "version": 3
   },
   "file_extension": ".py",
   "mimetype": "text/x-python",
   "name": "python",
   "nbconvert_exporter": "python",
   "pygments_lexer": "ipython3",
   "version": "3.6.9"
  }
 },
 "nbformat": 4,
 "nbformat_minor": 4
}

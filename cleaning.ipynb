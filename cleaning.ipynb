{
 "cells": [
  {
   "cell_type": "code",
   "execution_count": 1,
   "metadata": {},
   "outputs": [],
   "source": [
    "import pandas as pd\n",
    "import numpy as np\n",
    "import seaborn as sns \n",
    "\n",
    "pd.set_option('display.max_columns', None)\n",
    "pd.set_option('display.float_format', lambda x: '%.3f' % x)\n",
    "pd.options.display.float_format = '{:,.2f}'.format\n",
    "\n",
    "seed=42\n",
    "np.random.seed = 42"
   ]
  },
  {
   "cell_type": "markdown",
   "metadata": {},
   "source": [
    "### Cleaning"
   ]
  },
  {
   "cell_type": "code",
   "execution_count": 2,
   "metadata": {},
   "outputs": [
    {
     "name": "stderr",
     "output_type": "stream",
     "text": [
      "/home/willy/git/imoveis/env/lib/python3.6/site-packages/IPython/core/interactiveshell.py:3072: DtypeWarning: Columns (10,13,22,31) have mixed types.Specify dtype option on import or set low_memory=False.\n",
      "  interactivity=interactivity, compiler=compiler, result=result)\n"
     ]
    },
    {
     "data": {
      "text/html": [
       "<div>\n",
       "<style scoped>\n",
       "    .dataframe tbody tr th:only-of-type {\n",
       "        vertical-align: middle;\n",
       "    }\n",
       "\n",
       "    .dataframe tbody tr th {\n",
       "        vertical-align: top;\n",
       "    }\n",
       "\n",
       "    .dataframe thead th {\n",
       "        text-align: right;\n",
       "    }\n",
       "</style>\n",
       "<table border=\"1\" class=\"dataframe\">\n",
       "  <thead>\n",
       "    <tr style=\"text-align: right;\">\n",
       "      <th></th>\n",
       "      <th>usableAreas</th>\n",
       "      <th>description</th>\n",
       "      <th>title</th>\n",
       "      <th>createdAt</th>\n",
       "      <th>publisherId</th>\n",
       "      <th>unitTypes</th>\n",
       "      <th>listingStatus</th>\n",
       "      <th>id</th>\n",
       "      <th>parkingSpaces</th>\n",
       "      <th>updatedAt</th>\n",
       "      <th>owner</th>\n",
       "      <th>images</th>\n",
       "      <th>address_country</th>\n",
       "      <th>address_zipCode</th>\n",
       "      <th>address_city</th>\n",
       "      <th>address_streetNumber</th>\n",
       "      <th>address_zone</th>\n",
       "      <th>address_geoLocation_precision</th>\n",
       "      <th>address_geoLocation_location_lon</th>\n",
       "      <th>address_geoLocation_location_lat</th>\n",
       "      <th>address_street</th>\n",
       "      <th>address_locationId</th>\n",
       "      <th>address_district</th>\n",
       "      <th>address_unitNumber</th>\n",
       "      <th>address_state</th>\n",
       "      <th>address_neighborhood</th>\n",
       "      <th>suites</th>\n",
       "      <th>publicationType</th>\n",
       "      <th>bathrooms</th>\n",
       "      <th>totalAreas</th>\n",
       "      <th>bedrooms</th>\n",
       "      <th>pricingInfos_price</th>\n",
       "      <th>pricingInfos_businessType</th>\n",
       "      <th>pricingInfos_period</th>\n",
       "      <th>pricingInfos_yearlyIptu</th>\n",
       "      <th>pricingInfos_rentalTotalPrice</th>\n",
       "      <th>pricingInfos_monthlyCondoFee</th>\n",
       "    </tr>\n",
       "  </thead>\n",
       "  <tbody>\n",
       "    <tr>\n",
       "      <th>6389</th>\n",
       "      <td>63.0</td>\n",
       "      <td>com 63m² de área útil, a 5 minutos da Av. Paul...</td>\n",
       "      <td>Centralo Park - Bela vista</td>\n",
       "      <td>2017-07-13T19:30:11.298Z</td>\n",
       "      <td>51dd26327f</td>\n",
       "      <td>APARTMENT</td>\n",
       "      <td>ACTIVE</td>\n",
       "      <td>9ca17c34db</td>\n",
       "      <td>2.0</td>\n",
       "      <td>2018-11-08T13:46:42.385Z</td>\n",
       "      <td>False</td>\n",
       "      <td>['https://s3-sa-east-1.amazonaws.com/vr.images...</td>\n",
       "      <td>BR</td>\n",
       "      <td>1,410,001.00</td>\n",
       "      <td>São Paulo</td>\n",
       "      <td>523</td>\n",
       "      <td>NaN</td>\n",
       "      <td>ROOFTOP</td>\n",
       "      <td>-46.660294</td>\n",
       "      <td>-23.562403</td>\n",
       "      <td>Alameda Ministro Rocha Azevedo</td>\n",
       "      <td>BR&gt;Sao Paulo&gt;NULL&gt;Sao Paulo&gt;Centro&gt;Cerqueira C...</td>\n",
       "      <td>NaN</td>\n",
       "      <td>NaN</td>\n",
       "      <td>São Paulo</td>\n",
       "      <td>Cerqueira César</td>\n",
       "      <td>1.0</td>\n",
       "      <td>STANDARD</td>\n",
       "      <td>2.0</td>\n",
       "      <td>63.0</td>\n",
       "      <td>2.0</td>\n",
       "      <td>840000</td>\n",
       "      <td>SALE</td>\n",
       "      <td>NaN</td>\n",
       "      <td>237.0</td>\n",
       "      <td>NaN</td>\n",
       "      <td>1798.0</td>\n",
       "    </tr>\n",
       "  </tbody>\n",
       "</table>\n",
       "</div>"
      ],
      "text/plain": [
       "     usableAreas                                        description  \\\n",
       "6389        63.0  com 63m² de área útil, a 5 minutos da Av. Paul...   \n",
       "\n",
       "                           title                 createdAt publisherId  \\\n",
       "6389  Centralo Park - Bela vista  2017-07-13T19:30:11.298Z  51dd26327f   \n",
       "\n",
       "      unitTypes listingStatus          id parkingSpaces  \\\n",
       "6389  APARTMENT        ACTIVE  9ca17c34db           2.0   \n",
       "\n",
       "                     updatedAt  owner  \\\n",
       "6389  2018-11-08T13:46:42.385Z  False   \n",
       "\n",
       "                                                 images address_country  \\\n",
       "6389  ['https://s3-sa-east-1.amazonaws.com/vr.images...              BR   \n",
       "\n",
       "     address_zipCode address_city address_streetNumber address_zone  \\\n",
       "6389    1,410,001.00    São Paulo                  523          NaN   \n",
       "\n",
       "     address_geoLocation_precision address_geoLocation_location_lon  \\\n",
       "6389                       ROOFTOP                       -46.660294   \n",
       "\n",
       "     address_geoLocation_location_lat                  address_street  \\\n",
       "6389                       -23.562403  Alameda Ministro Rocha Azevedo   \n",
       "\n",
       "                                     address_locationId address_district  \\\n",
       "6389  BR>Sao Paulo>NULL>Sao Paulo>Centro>Cerqueira C...              NaN   \n",
       "\n",
       "     address_unitNumber address_state address_neighborhood suites  \\\n",
       "6389                NaN     São Paulo      Cerqueira César    1.0   \n",
       "\n",
       "     publicationType bathrooms totalAreas bedrooms pricingInfos_price  \\\n",
       "6389        STANDARD       2.0       63.0      2.0             840000   \n",
       "\n",
       "     pricingInfos_businessType pricingInfos_period pricingInfos_yearlyIptu  \\\n",
       "6389                      SALE                 NaN                   237.0   \n",
       "\n",
       "     pricingInfos_rentalTotalPrice pricingInfos_monthlyCondoFee  \n",
       "6389                           NaN                       1798.0  "
      ]
     },
     "execution_count": 2,
     "metadata": {},
     "output_type": "execute_result"
    }
   ],
   "source": [
    "dataset = pd.read_csv('data/processed/train.csv.gzip',compression='gzip', sep =';',decimal=',')\n",
    "\n",
    "# filtro de apenas apartamentos e vendas como está no enunciado\n",
    "dataset = dataset[dataset['unitTypes']=='APARTMENT']\n",
    "dataset = dataset[dataset['pricingInfos_businessType']=='SALE']\n",
    "\n",
    "dataset.sample(1)"
   ]
  },
  {
   "cell_type": "markdown",
   "metadata": {},
   "source": [
    "Condomínios na ordem de 10^9 não fazem sentindo então temos um valor máximo na faixa de 2k\n",
    "[fonte] https://imoveis.estadao.com.br/noticias/jardins-e-moema-sao-os-bairros-com-condominios-mais-caros-de-sao-paulo/\n",
    "    \n",
    "preço por metragem tatuapé\n",
    "[fonte] https://www.proprietariodireto.com.br/preco-m2/tatuape-sao_paulo"
   ]
  },
  {
   "cell_type": "code",
   "execution_count": 3,
   "metadata": {},
   "outputs": [],
   "source": [
    "def describe():\n",
    "    \"\"\"\n",
    "    helper para achar valores estranhos nas pontas, máx e mín\n",
    "    \"\"\"\n",
    "    num_lit = ['usableAreas','pricingInfos_price','parkingSpaces','suites','bathrooms'\n",
    "    ,'totalAreas','bedrooms','pricingInfos_yearlyIptu','pricingInfos_monthlyCondoFee']\n",
    "\n",
    "    return dataset[num_lit].describe()"
   ]
  },
  {
   "cell_type": "code",
   "execution_count": 4,
   "metadata": {},
   "outputs": [],
   "source": [
    "#garantindo o float dtype\n",
    "dataset = dataset[~dataset['usableAreas'].astype(str).str.contains('[A-Za-z]', na=False)]  \n",
    "dataset['usableAreas'] = dataset['usableAreas'].astype('float32')\n",
    "\n",
    "dataset = dataset[~dataset['pricingInfos_price'].astype(str).str.contains('[A-Za-z]', na=False)]    \n",
    "dataset['pricingInfos_price'] = dataset['pricingInfos_price'].astype('float')\n",
    "\n",
    "dataset['parkingSpaces']=dataset['parkingSpaces'].astype('float32')\n",
    "dataset['suites']=dataset['suites'].astype('float')\n",
    "dataset['bathrooms']=dataset['bathrooms'].astype('float')\n",
    "dataset['totalAreas']=dataset['totalAreas'].astype('float')\n",
    "dataset['bedrooms']=dataset['bedrooms'].astype('float')\n",
    "dataset['pricingInfos_price']=dataset['pricingInfos_price'].astype('float')\n",
    "dataset['pricingInfos_yearlyIptu']=dataset['pricingInfos_yearlyIptu'].astype('float')\n",
    "dataset['pricingInfos_monthlyCondoFee']= dataset['pricingInfos_monthlyCondoFee'].astype('float')\n",
    "\n",
    "#arrumando pontos na mão pois parece um misstype dado a metragem da casa, área e preço\n",
    "#foi feito a partir do helper describe()\n",
    "\n",
    "dataset.loc[91598,'usableAreas'] = 129 #misstype \n",
    "dataset.loc[3076,'pricingInfos_price'] = 7420000.00 #misstype \n",
    "dataset.loc[67986,'usableAreas'] = 90.00 #misstype \n",
    "dataset.loc[127253,'pricingInfos_price'] = 254349.20 #preço do m2 em tatuapé\n",
    "dataset.loc[91030,'pricingInfos_price'] = 2240000.00 \n",
    "dataset.loc[95790,'pricingInfos_price'] = 2072000.00\n",
    "dataset.loc[16201,'usableAreas'] = 192.58 #misstype \n",
    "dataset.loc[16201,'totalAreas'] = 192.58 #misstype \n",
    "dataset.loc[28040,'totalAreas']=320.80 #misstype \n",
    "dataset.loc[120825,'totalAreas']=547.50 #misstype \n",
    "dataset.loc[10122,'bathrooms']=2 #mediana pois é área é de 65m²\n",
    "dataset.loc[88364,'suites']=3 # #misstype \n",
    "dataset.loc[114508,'bedrooms']=2 #misstype \n",
    "dataset.loc[85067,'bedrooms']=3 #misstype \n",
    "dataset.loc[74140,'bedrooms']=2 #misstype \n",
    "dataset.loc[129094,'bedrooms']=1 #misstype \n",
    "dataset.loc[4875,'pricingInfos_yearlyIptu']=103670.00 #misstype \n",
    "dataset.loc[29837,'pricingInfos_yearlyIptu']=80499.99 #misstype \n",
    "dataset.loc[109411,'pricingInfos_yearlyIptu']=1610.00 #misstype \n",
    "dataset.loc[104816,'pricingInfos_monthlyCondoFee']=2443 #misstype \n",
    "\n",
    "\"\"\"\n",
    "essa lista me pareceu que foi input errado, e como os valores estam perto da média\n",
    "\"\"\"\n",
    "bathLocs_list=[12128,34455,40067,71233,74140,87137,93715,100627,111310]\n",
    "valor_list = [3,2,2,3,2,4,2,2,5]\n",
    "dataset.loc[[x for x in bathLocs_list ],'bathrooms'] = [x for x in valor_list]"
   ]
  },
  {
   "cell_type": "code",
   "execution_count": 5,
   "metadata": {},
   "outputs": [],
   "source": [
    "bathLocs_list = [5148,5642,22853,52435,56737,64387,104721]\n",
    "dataset.loc[[x for x in bathLocs_list],'bathrooms']=4 #mediana de num de banheiros em casas dessa metragem (120m²+)\n",
    "\n",
    "def usableArea(x):\n",
    "    \"\"\"\n",
    "    garantindo que não haja totalAreas muito distantes da usableAreas\n",
    "    \"\"\"\n",
    "    if x['totalAreas']*3 > x['usableAreas']:\n",
    "        return x['usableAreas']\n",
    "    else:\n",
    "        return x['totalAreas']    \n",
    "    \n",
    "def usableArea2(x):\n",
    "    \"\"\"\n",
    "    olhando o preço médio de um imóvel com mais de 1500m2, nos sites de imóvel,\n",
    "    percebe-se que há poucos que custam menos de 2m\n",
    "    \"\"\"\n",
    "    if x['usableAreas'] > 1500 and x['pricingInfos_price'] < 2000000:\n",
    "        return x['usableAreas']/10\n",
    "    else:\n",
    "        return x['totalAreas']\n",
    "\n",
    "\n",
    "def randomParkingSpaces():\n",
    "    \"\"\"\n",
    "    como que a maioria dos aps tem entre 1 e 3 vagas, vamos achar a distribuição e \n",
    "    usar como probabilidade para trazer para um valor mais realista\n",
    "\n",
    "    assim um >>dataset['parkingSpaces'].value_counts()<< pode nos dar uma boa aproximação\n",
    "    \"\"\"\n",
    "    p = [0.051824852372388,0.473013194963949,0.286341859391663\n",
    "        ,0.104668375061677,0.060483550066054,0.017317395387334\n",
    "        ,0.006350772756936]\n",
    "    values = [0,1,2,3,4,5,6]\n",
    "    return np.random.choice(values,1,p=p,)[0]\n",
    "\n",
    "def valueCondoFee1(x):\n",
    "    if x['pricingInfos_monthlyCondoFee']>5000 and x['pricingInfos_price']>2000000:\n",
    "        return x['pricingInfos_monthlyCondoFee']/10\n",
    "    else:\n",
    "        return x['pricingInfos_monthlyCondoFee']\n",
    "    \n",
    "\n",
    "def valueCondoFee2(x):\n",
    "    if x['pricingInfos_monthlyCondoFee']>=10000 and x['usableAreas']<200:\n",
    "        return x['pricingInfos_monthlyCondoFee']/100\n",
    "    else:\n",
    "        return x['pricingInfos_monthlyCondoFee']\n",
    "    \n",
    "def zeroUsableAreas(x):\n",
    "    if x['usableAreas']==0:\n",
    "        if pd.notna(x['usableAreasFromTitle']):\n",
    "            return x['usableAreasFromTitle'] \n",
    "        elif pd.notna(x['usableAreasFromDescription']):\n",
    "            return x['usableAreasFromDescription'] \n",
    "        else:\n",
    "            return x['usableAreas']\n",
    "    else:\n",
    "        return x['usableAreas']"
   ]
  },
  {
   "cell_type": "code",
   "execution_count": 6,
   "metadata": {},
   "outputs": [],
   "source": [
    "def proceduralFloat(dataset, *x):\n",
    "    \n",
    "    dataset['pricingInfos_monthlyCondoFee'] = dataset['pricingInfos_monthlyCondoFee'].apply(lambda x: x/1000 if x > 1000000 else x)\n",
    "    dataset['totalAreas'] = dataset[['totalAreas','usableAreas']].apply(usableArea, axis=1)\n",
    "    dataset['usableAreas']=dataset[['usableAreas','totalAreas','pricingInfos_price']].apply(usableArea2, axis=1)\n",
    "    dataset['parkingSpaces'] = dataset['parkingSpaces'].apply(lambda x: randomParkingSpaces() if x>29 else x)\n",
    "    dataset['pricingInfos_monthlyCondoFee'] = dataset[['pricingInfos_monthlyCondoFee','pricingInfos_price']].apply(valueCondoFee1,axis =1)\n",
    "    dataset['pricingInfos_monthlyCondoFee'] = dataset[['pricingInfos_monthlyCondoFee','usableAreas']].apply(valueCondoFee2,axis =1)\n",
    "    dataset['pricingInfos_yearlyIptu'] = dataset['pricingInfos_yearlyIptu'].apply(lambda x: x/10 if x>100000 else x )\n",
    "    dataset['pricingInfos_price'] = dataset['pricingInfos_price'].apply(lambda x: x/10 if x > 10000000 else x)\n",
    "    \n",
    "    return 'part one, is done'"
   ]
  },
  {
   "cell_type": "code",
   "execution_count": 7,
   "metadata": {
    "scrolled": true
   },
   "outputs": [
    {
     "data": {
      "text/plain": [
       "'done2'"
      ]
     },
     "execution_count": 7,
     "metadata": {},
     "output_type": "execute_result"
    }
   ],
   "source": [
    "def extractInfoText(dataset, *x):\n",
    "\n",
    "    dataset[['usableAreasFromTitle','a']] = dataset['title'].str.extract('(\\d{1,4}\\s?(m²|metros quadrados|metros quadrado),?)', expand=False)\n",
    "    dataset['usableAreasFromTitle'] = dataset['usableAreasFromTitle'].str.extract(r'(\\d+)', expand=False)\n",
    "\n",
    "    dataset[['usableAreasFromDescription','a']] = dataset['description'].str.extract('(\\d{1,4}\\s?(m²|metros quadrados|metros quadrado),?)', expand=False)\n",
    "    dataset['usableAreasFromDescription'] =dataset['usableAreasFromDescription'].str.extract(r'(\\d+)', expand=False)\n",
    "\n",
    "    dataset[['vagaFromTitle', 'b']]= dataset['title'].str.extract('(\\s?\\d{1,2}\\s?(vaga|vagas|estacionamento))', expand=False)\n",
    "\n",
    "\n",
    "    dataset['usableAreas']=dataset['usableAreas'].fillna(dataset['usableAreasFromDescription'])\n",
    "    dataset['usableAreas']=dataset['usableAreas'].fillna(dataset['usableAreasFromTitle'])\n",
    "    dataset['usableAreas']=dataset['usableAreas'].fillna(dataset['totalAreas'])\n",
    "\n",
    "    dataset['usableAreas']= dataset[['usableAreas','usableAreasFromTitle','usableAreasFromDescription']].apply(zeroUsableAreas, axis=1 )\n",
    "    dataset.usableAreas = dataset.usableAreas.astype('float')\n",
    "    \n",
    "    interesting_string='metrô|museu|avenida|av|parques|parque|padaria|perto|marginal|shopping|perto do metro'\n",
    "    dataset['descriptionAndTitle']=dataset['description']+' '+dataset['title']\n",
    "    dataset['interestingFlag']=dataset['descriptionAndTitle'].str.contains(interesting_string, regex=True)\n",
    "    \n",
    "    return 'part two, is done'\n",
    "\n",
    "proceduralFloat(dataset, usableArea,usableArea2,randomParkingSpaces,valueCondoFee1,valueCondoFee2)\n",
    "extractInfoText(dataset,zeroUsableAreas)"
   ]
  },
  {
   "cell_type": "code",
   "execution_count": 9,
   "metadata": {},
   "outputs": [],
   "source": [
    "dataset.to_csv('data/processed/train_cleaned.csv.gzip', sep =';', compression='gzip')"
   ]
  },
  {
   "cell_type": "code",
   "execution_count": null,
   "metadata": {},
   "outputs": [],
   "source": []
  },
  {
   "cell_type": "code",
   "execution_count": null,
   "metadata": {},
   "outputs": [],
   "source": [
    "usefullCollumns_list = ['id','usableAreas','totalAreas','parkingSpaces','address_zone','address_locationId'\n",
    ",'address_neighborhood','suites','bedrooms','bathrooms','pricingInfos_price','pricingInfos_yearlyIptu'\n",
    ",'pricingInfos_monthlyCondoFee']"
   ]
  },
  {
   "cell_type": "code",
   "execution_count": null,
   "metadata": {},
   "outputs": [],
   "source": [
    "dataset[usefullCollumns_list].describe()"
   ]
  },
  {
   "cell_type": "code",
   "execution_count": null,
   "metadata": {},
   "outputs": [],
   "source": [
    "dataset[dataset['pricingInfos_monthlyCondoFee']>100000]"
   ]
  },
  {
   "cell_type": "code",
   "execution_count": null,
   "metadata": {},
   "outputs": [],
   "source": [
    "#amostra de 15%\n",
    "_ = dataset[dataset['usableAreas']!=0]\n",
    "sns.set_theme(style=\"darkgrid\")\n",
    "g = sns.jointplot(x=\"usableAreas\", y=\"pricingInfos_price\"\n",
    "                  ,data=dataset.sample(round(_.shape[0]*.20), random_state=seed)\n",
    "                  ,kind=\"reg\", truncate=False\n",
    "                  ,color=\"m\", height=7)"
   ]
  },
  {
   "cell_type": "code",
   "execution_count": null,
   "metadata": {},
   "outputs": [],
   "source": [
    "dataset.pricingInfos_price.describe()"
   ]
  },
  {
   "cell_type": "code",
   "execution_count": null,
   "metadata": {},
   "outputs": [],
   "source": []
  },
  {
   "cell_type": "code",
   "execution_count": null,
   "metadata": {},
   "outputs": [],
   "source": [
    "metro_df = dataset[dataset.title.str.contains('metrô', na=False)]\n",
    "\n",
    "g = sns.jointplot(x=\"usableAreas\", y=\"pricingInfos_price\"\n",
    "                  ,data=metro_df\n",
    "                  ,kind=\"reg\", truncate=False\n",
    "                  ,color=\"m\", height=7)"
   ]
  },
  {
   "cell_type": "code",
   "execution_count": null,
   "metadata": {},
   "outputs": [],
   "source": []
  },
  {
   "cell_type": "code",
   "execution_count": null,
   "metadata": {},
   "outputs": [],
   "source": []
  },
  {
   "cell_type": "code",
   "execution_count": null,
   "metadata": {},
   "outputs": [],
   "source": []
  },
  {
   "cell_type": "code",
   "execution_count": null,
   "metadata": {},
   "outputs": [],
   "source": []
  },
  {
   "cell_type": "code",
   "execution_count": null,
   "metadata": {},
   "outputs": [],
   "source": []
  },
  {
   "cell_type": "code",
   "execution_count": null,
   "metadata": {},
   "outputs": [],
   "source": []
  }
 ],
 "metadata": {
  "kernelspec": {
   "display_name": "Python 3",
   "language": "python",
   "name": "python3"
  },
  "language_info": {
   "codemirror_mode": {
    "name": "ipython",
    "version": 3
   },
   "file_extension": ".py",
   "mimetype": "text/x-python",
   "name": "python",
   "nbconvert_exporter": "python",
   "pygments_lexer": "ipython3",
   "version": "3.6.9"
  }
 },
 "nbformat": 4,
 "nbformat_minor": 4
}

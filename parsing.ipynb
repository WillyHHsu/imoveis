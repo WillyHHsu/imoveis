{
 "cells": [
  {
   "cell_type": "code",
   "execution_count": 4,
   "metadata": {},
   "outputs": [],
   "source": [
    "import zipfile  \n",
    "import json\n",
    "import pandas as pd"
   ]
  },
  {
   "cell_type": "code",
   "execution_count": 2,
   "metadata": {},
   "outputs": [],
   "source": [
    "def flatten_json(y):\n",
    "    out = {}\n",
    "    def flatten(x, name=''):\n",
    "        if type(x) is dict:\n",
    "            for a in x:\n",
    "                flatten(x[a], name + a + '_')\n",
    "        else:\n",
    "            out[name[:-1]] = x\n",
    "    flatten(y)\n",
    "    return out"
   ]
  },
  {
   "cell_type": "code",
   "execution_count": 5,
   "metadata": {},
   "outputs": [],
   "source": [
    "#train\n",
    "jsonsList_train =  []\n",
    "with zipfile.ZipFile(\"data/raw/source-4-ds-train.json.zip\", \"r\") as z:\n",
    "    for filename in z.namelist():  \n",
    "        with z.open(filename) as f:  \n",
    "            for line in f:\n",
    "                jsonsList_train.append(flatten_json(json.loads(line)))\n",
    "dataset_train = pd.DataFrame(data=jsonsList_train)\n",
    "dataset_train.to_csv('data/processed/train.csv.gzip', sep =';', index=False,  compression=\"gzip\")"
   ]
  },
  {
   "cell_type": "code",
   "execution_count": null,
   "metadata": {},
   "outputs": [],
   "source": [
    "#test\n",
    "jsonsList_test =  []\n",
    "with zipfile.ZipFile(\"data/raw/source-4-ds-test.json.zip\", \"r\") as z:\n",
    "    for filename in z.namelist():  \n",
    "        with z.open(filename) as f:\n",
    "            for line in f:\n",
    "                jsonsList_test.append(flatten_json(json.loads(line)))\n",
    "dataset_test = pd.DataFrame(data=jsonsList_test)\n",
    "dataset_test.to_csv('data/processed/test.csv.gzip', sep =';', index=False, compression='gzip')"
   ]
  },
  {
   "cell_type": "code",
   "execution_count": null,
   "metadata": {},
   "outputs": [],
   "source": []
  }
 ],
 "metadata": {
  "kernelspec": {
   "display_name": "Python 3",
   "language": "python",
   "name": "python3"
  },
  "language_info": {
   "codemirror_mode": {
    "name": "ipython",
    "version": 3
   },
   "file_extension": ".py",
   "mimetype": "text/x-python",
   "name": "python",
   "nbconvert_exporter": "python",
   "pygments_lexer": "ipython3",
   "version": "3.6.9"
  }
 },
 "nbformat": 4,
 "nbformat_minor": 4
}

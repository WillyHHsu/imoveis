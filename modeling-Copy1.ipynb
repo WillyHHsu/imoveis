{
 "cells": [
  {
   "cell_type": "code",
   "execution_count": 1,
   "metadata": {},
   "outputs": [],
   "source": [
    "import pandas as pd\n",
    "import numpy as np\n",
    "\n",
    "pd.set_option('display.max_columns', None)\n",
    "pd.set_option('display.float_format', lambda x: '%.3f' % x)\n",
    "pd.options.display.float_format = '{:,.2f}'.format\n",
    "\n",
    "seed=42\n",
    "np.random.seed = 42"
   ]
  },
  {
   "cell_type": "code",
   "execution_count": 2,
   "metadata": {},
   "outputs": [],
   "source": [
    "#columns\n",
    "usefullCollumns_list = ['id','usableAreas','totalAreas','parkingSpaces','address_zone'\n",
    ",'address_neighborhood','suites','bedrooms','bathrooms','pricingInfos_price','pricingInfos_yearlyIptu'\n",
    ",'pricingInfos_monthlyCondoFee','interestingFlag']\n",
    "\n",
    "dtype_list = ['usableAreas','totalAreas','parkingSpaces','suites','bedrooms'\n",
    ",'pricingInfos_price','pricingInfos_yearlyIptu','pricingInfos_monthlyCondoFee']"
   ]
  },
  {
   "cell_type": "code",
   "execution_count": 3,
   "metadata": {},
   "outputs": [],
   "source": [
    "#reading\n",
    "dataset = pd.read_csv('data/processed/train_cleaned.csv.gzip',compression='gzip', sep =';')\n",
    "dataset[[x for x in dtype_list]] = dataset[[x for x in dtype_list]].astype('float')"
   ]
  },
  {
   "cell_type": "code",
   "execution_count": 4,
   "metadata": {},
   "outputs": [
    {
     "name": "stdout",
     "output_type": "stream",
     "text": [
      "razão: # de bairros/# de linhas = 0.97\n"
     ]
    }
   ],
   "source": [
    "_ = dataset.address_neighborhood.nunique()/dataset[dataset.usableAreas!=0].shape[0]\n",
    "print(f'razão: # de bairros/# de linhas = {_:.2f}')"
   ]
  },
  {
   "cell_type": "code",
   "execution_count": 5,
   "metadata": {},
   "outputs": [],
   "source": [
    "dataset['parkingSpaces'].fillna(dataset['parkingSpaces'].median, inplace = True )\n",
    "dataset['suites'].fillna(dataset['suites'].median, inplace = True )\n",
    "dataset['bedrooms'].fillna(dataset['bedrooms'].median, inplace = True )\n",
    "dataset['bathrooms'].fillna(dataset['bathrooms'].median, inplace = True )\n",
    "dataset['pricingInfos_monthlyCondoFee'].fillna(dataset['pricingInfos_monthlyCondoFee'].median, inplace = True )\n",
    "\n"
   ]
  },
  {
   "cell_type": "code",
   "execution_count": 10,
   "metadata": {},
   "outputs": [],
   "source": [
    "def iptu(x):\n",
    "\n",
    "    if x['pricingInfos_yearlyIptu'] < 20:\n",
    "        return x['pricingInfos_price']*0.01\n",
    "    else:\n",
    "        return x['pricingInfos_yearlyIptu']\n",
    "\n",
    "dataset['pricingInfos_yearlyIptu'].fillna(0,inplace = True)\n",
    "dataset['pricingInfos_yearlyIptu'] = dataset[['pricingInfos_yearlyIptu','pricingInfos_price']].apply(iptu ,axis=1)"
   ]
  },
  {
   "cell_type": "code",
   "execution_count": 11,
   "metadata": {
    "scrolled": true
   },
   "outputs": [
    {
     "data": {
      "text/html": [
       "<div>\n",
       "<style scoped>\n",
       "    .dataframe tbody tr th:only-of-type {\n",
       "        vertical-align: middle;\n",
       "    }\n",
       "\n",
       "    .dataframe tbody tr th {\n",
       "        vertical-align: top;\n",
       "    }\n",
       "\n",
       "    .dataframe thead th {\n",
       "        text-align: right;\n",
       "    }\n",
       "</style>\n",
       "<table border=\"1\" class=\"dataframe\">\n",
       "  <thead>\n",
       "    <tr style=\"text-align: right;\">\n",
       "      <th></th>\n",
       "      <th>usableAreas</th>\n",
       "      <th>description</th>\n",
       "      <th>title</th>\n",
       "      <th>createdAt</th>\n",
       "      <th>publisherId</th>\n",
       "      <th>unitTypes</th>\n",
       "      <th>listingStatus</th>\n",
       "      <th>id</th>\n",
       "      <th>parkingSpaces</th>\n",
       "      <th>updatedAt</th>\n",
       "      <th>owner</th>\n",
       "      <th>images</th>\n",
       "      <th>address_country</th>\n",
       "      <th>address_zipCode</th>\n",
       "      <th>address_city</th>\n",
       "      <th>address_streetNumber</th>\n",
       "      <th>address_zone</th>\n",
       "      <th>address_geoLocation_precision</th>\n",
       "      <th>address_geoLocation_location_lon</th>\n",
       "      <th>address_geoLocation_location_lat</th>\n",
       "      <th>address_street</th>\n",
       "      <th>address_locationId</th>\n",
       "      <th>address_district</th>\n",
       "      <th>address_unitNumber</th>\n",
       "      <th>address_state</th>\n",
       "      <th>address_neighborhood</th>\n",
       "      <th>suites</th>\n",
       "      <th>publicationType</th>\n",
       "      <th>bathrooms</th>\n",
       "      <th>totalAreas</th>\n",
       "      <th>bedrooms</th>\n",
       "      <th>pricingInfos_price</th>\n",
       "      <th>pricingInfos_businessType</th>\n",
       "      <th>pricingInfos_period</th>\n",
       "      <th>pricingInfos_yearlyIptu</th>\n",
       "      <th>pricingInfos_rentalTotalPrice</th>\n",
       "      <th>pricingInfos_monthlyCondoFee</th>\n",
       "      <th>usableAreasFromTitle</th>\n",
       "      <th>a</th>\n",
       "      <th>usableAreasFromDescription</th>\n",
       "      <th>vagaFromTitle</th>\n",
       "      <th>b</th>\n",
       "      <th>descriptionAndTitle</th>\n",
       "      <th>interestingFlag</th>\n",
       "    </tr>\n",
       "  </thead>\n",
       "  <tbody>\n",
       "  </tbody>\n",
       "</table>\n",
       "</div>"
      ],
      "text/plain": [
       "Empty DataFrame\n",
       "Columns: [usableAreas, description, title, createdAt, publisherId, unitTypes, listingStatus, id, parkingSpaces, updatedAt, owner, images, address_country, address_zipCode, address_city, address_streetNumber, address_zone, address_geoLocation_precision, address_geoLocation_location_lon, address_geoLocation_location_lat, address_street, address_locationId, address_district, address_unitNumber, address_state, address_neighborhood, suites, publicationType, bathrooms, totalAreas, bedrooms, pricingInfos_price, pricingInfos_businessType, pricingInfos_period, pricingInfos_yearlyIptu, pricingInfos_rentalTotalPrice, pricingInfos_monthlyCondoFee, usableAreasFromTitle, a, usableAreasFromDescription, vagaFromTitle, b, descriptionAndTitle, interestingFlag]\n",
       "Index: []"
      ]
     },
     "execution_count": 11,
     "metadata": {},
     "output_type": "execute_result"
    }
   ],
   "source": [
    "dataset[dataset['pricingInfos_yearlyIptu']==0]"
   ]
  },
  {
   "cell_type": "code",
   "execution_count": null,
   "metadata": {},
   "outputs": [],
   "source": []
  }
 ],
 "metadata": {
  "kernelspec": {
   "display_name": "Python 3",
   "language": "python",
   "name": "python3"
  },
  "language_info": {
   "codemirror_mode": {
    "name": "ipython",
    "version": 3
   },
   "file_extension": ".py",
   "mimetype": "text/x-python",
   "name": "python",
   "nbconvert_exporter": "python",
   "pygments_lexer": "ipython3",
   "version": "3.8.5"
  }
 },
 "nbformat": 4,
 "nbformat_minor": 4
}
